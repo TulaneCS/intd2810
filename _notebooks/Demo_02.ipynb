{
  "cells": [
    {
      "cell_type": "markdown",
      "metadata": {
        "id": "ihgPK7LWrOG8"
      },
      "source": [
        "# Demo 02: Python and Working with Data\n",
        "\n",
        "In this notebook we'll see some more Python and some more advanced functions for working with data! As we discussed in class, data is the cornerstone of most machine learning / artificial intelligence models so we need to understand how to access and use that data.\n",
        "\n",
        "In the last class we saw a few examples of how to store data in variables in Python, let's quickly review.\n",
        "\n",
        "First, if we only want to store a single value, we can create a variable to hold any type of data: a number, a word, or even a whole Python program!"
      ]
    },
    {
      "cell_type": "code",
      "source": [
        "# A quick thing I forgot, this is a comment, it's words in a code block that\n",
        "# aren't code. We use the little # to set them off and they should be green.\n",
        "# Things that aren't green, are executable code!\n",
        "\n",
        "new_variable = 12\n",
        "\n",
        "print(new_variable)"
      ],
      "metadata": {
        "id": "F-4Oi1KlbxOs"
      },
      "execution_count": null,
      "outputs": []
    },
    {
      "cell_type": "markdown",
      "source": [
        "Recall that making a variable creates a space in the computer memory where we can store things. When we put something new in that box, then we lose what was there... unless we explicitly tell Python to update the value of that variable."
      ],
      "metadata": {
        "id": "c9pyxJ5WcFBh"
      }
    },
    {
      "cell_type": "code",
      "source": [
        "new_variable = 22\n",
        "\n",
        "print(new_variable)\n"
      ],
      "metadata": {
        "id": "gvRNp7KVcQ38"
      },
      "execution_count": null,
      "outputs": []
    },
    {
      "cell_type": "code",
      "source": [
        "new_variable = new_variable + 5\n",
        "\n",
        "print(new_variable)"
      ],
      "metadata": {
        "id": "L0BURsu8cQPt"
      },
      "execution_count": null,
      "outputs": []
    },
    {
      "cell_type": "markdown",
      "source": [
        "We also quickly saw something called a *list*, which is a type of variable that can hold other variables, in a fixed order. So if we want to keep track of a list of words where order matters, we can use a list."
      ],
      "metadata": {
        "id": "bGDUgbbucZoX"
      }
    },
    {
      "cell_type": "code",
      "source": [
        "my_words = [\"this\", \"is\", \"a\", \"list\", \"of\", \"words\"]\n",
        "\n",
        "print(my_words)"
      ],
      "metadata": {
        "id": "-XcFzU8ebwq7"
      },
      "execution_count": null,
      "outputs": []
    },
    {
      "cell_type": "markdown",
      "source": [
        "We can add words to this list by updating it, the same as we did with the variables above."
      ],
      "metadata": {
        "id": "MimnyqUTcqvN"
      }
    },
    {
      "cell_type": "code",
      "source": [
        "my_words = my_words + [\"new\", \"words\"]\n",
        "\n",
        "print(my_words)"
      ],
      "metadata": {
        "id": "JgJycoR2coYt"
      },
      "execution_count": null,
      "outputs": []
    },
    {
      "cell_type": "markdown",
      "source": [
        "Now we need one more thing that will help us out, it's a type of container called a dictionary. It let's us store lots of values with names, and get them back whenever we want."
      ],
      "metadata": {
        "id": "shHvB9ZKc0dO"
      }
    },
    {
      "cell_type": "code",
      "source": [
        "# Start a dict\n",
        "\n",
        "new_dictionary = {\"students\": 10,\n",
        "                  \"others\": 20}"
      ],
      "metadata": {
        "id": "-1gXyxG3LFy9"
      },
      "execution_count": null,
      "outputs": []
    },
    {
      "cell_type": "code",
      "source": [
        "print(new_dictionary)"
      ],
      "metadata": {
        "id": "zJpfA0COLFwh"
      },
      "execution_count": null,
      "outputs": []
    },
    {
      "cell_type": "code",
      "source": [
        "print(new_dictionary[\"students\"])"
      ],
      "metadata": {
        "id": "LHQ5h1-hLFsV"
      },
      "execution_count": null,
      "outputs": []
    },
    {
      "cell_type": "markdown",
      "source": [
        "These are very cool as they let us keep track of things in an un-ordered way (consider that lists are ordered) and we can keep all kinds of things in there, not just numbers!"
      ],
      "metadata": {
        "id": "G29G61DeLUZh"
      }
    },
    {
      "cell_type": "code",
      "source": [
        "new_dictionary[\"a new one\"] = \"this is a string\"\n",
        "print(new_dictionary)"
      ],
      "metadata": {
        "id": "Djd5JL9DLFnJ"
      },
      "execution_count": null,
      "outputs": []
    },
    {
      "cell_type": "markdown",
      "source": [
        "So, let's pause for a second and thing about how we'd build a DFA if we wanted to count all the words in a list..\n",
        ".\n",
        ".\n",
        ".\n",
        ".\n",
        ".\n",
        ".\n",
        ".\n",
        ".\n",
        "\n",
        "\n",
        "\n",
        "\n",
        "...\n",
        "\n",
        "\n",
        "...\n",
        "\n",
        "\n",
        "...\n",
        "\n",
        "\n",
        "Let's start by iterating over the list...we're going to use a special word called enumerate that gives us both the position and the value of a list. We'll come back to these details again later."
      ],
      "metadata": {
        "id": "aHHAAlwWLhUI"
      }
    },
    {
      "cell_type": "code",
      "source": [
        "for number, word in enumerate(my_words):\n",
        "  print(\"The \" + str(number) + \" word in the list is: \" + word)"
      ],
      "metadata": {
        "id": "YdefAMd_LFgH"
      },
      "execution_count": null,
      "outputs": []
    },
    {
      "cell_type": "markdown",
      "source": [
        "So with the above we can start to think about how we might go over a list of words and keep track of how many times those words appear. Let's think about the DFA for this......\n",
        "\n",
        "\n",
        "...\n",
        "\n",
        "...\n",
        "\n",
        "\n",
        "\n",
        "...\n",
        "\n",
        "\n",
        "\n",
        "...\n",
        "\n",
        "\n",
        "\n",
        "...\n",
        "\n",
        "\n",
        "...\n",
        "\n",
        "Yep, we need a new dictionary and we can increment all the values as we see them in the \"box\" or list of words. We needed a little if statement there, we'll come back to these but trust me for now this works!\n",
        "\n",
        "\n",
        "\n"
      ],
      "metadata": {
        "id": "xHYRQhUOMEYQ"
      }
    },
    {
      "cell_type": "code",
      "source": [
        "all_words = [\"this\", \"is\", \"a\", \"list\", \"of\", \"words\", \"words\", \"of\", \"list\", \"kiss\"]\n",
        "counting_dict = {} # empty dictionary\n",
        "\n",
        "for word in all_words:\n",
        "    if word in counting_dict:\n",
        "        counting_dict[word] += 1\n",
        "    else:\n",
        "        counting_dict[word] = 1"
      ],
      "metadata": {
        "id": "UCp61dvKfjS5"
      },
      "execution_count": null,
      "outputs": []
    },
    {
      "cell_type": "code",
      "source": [
        "print(counting_dict)"
      ],
      "metadata": {
        "id": "FmOGqhuhfxrR"
      },
      "execution_count": null,
      "outputs": []
    },
    {
      "cell_type": "markdown",
      "source": [
        "# Working with Data from the Internet!\n",
        "\n",
        "Now consider that we want to read a lot of books... really fast. Well, we don't want to type them in one at a time, that would take to long.\n",
        "\n",
        "Luckily we learned about ASCII and the way that text is encoded like any other data. So we might want to read a classic, like Huck Finn, which is available on a website called [Project Gutenberg](https://www.gutenberg.org/ebooks/76).\n",
        "\n",
        "There are a lot of different versions of that file. Some are for a Kindle, some are for other devices. At the end of the day they all use binary to represent the information, just in different ways! That's why we have file extensions in the first place: to tell us how the data in the file is organized.\n",
        "\n",
        "We're interested in the most basic type of data, with no fancy formatting or anything else, which is called UTF-8, which we learned about a few weeks ago. As we can see there is a [UTF-8 version of Huck Finn](https://www.gutenberg.org/cache/epub/76/pg76.txt)\n",
        "\n",
        "So the first thing we need to do is download that data and store it all in a variable. For now we'll do like above and store it in one single variable.\n"
      ],
      "metadata": {
        "id": "l1xRMssSc3DK"
      }
    },
    {
      "cell_type": "code",
      "source": [
        "# First, I just want to show you that for any value we can show it in binary,\n",
        "# because this is all binary under the hood.\n",
        "\n",
        "s = \"this is a string\"\n",
        "' '.join(\"{:8b}\".format(ord(c)) for c in s)"
      ],
      "metadata": {
        "id": "t3omv_VaM4o9"
      },
      "execution_count": null,
      "outputs": []
    },
    {
      "cell_type": "code",
      "source": [
        "# or in Hex... if you go back to the lecture with the ASCII table, you'll see\n",
        "# these are the same letters!\n",
        "\n",
        "' '.join(\"{:02x}\".format(ord(c)) for c in s)"
      ],
      "metadata": {
        "id": "CkBqPfrYNnPA"
      },
      "execution_count": null,
      "outputs": []
    },
    {
      "cell_type": "code",
      "source": [
        "# Load up URL Lib and read all the data into one variable.\n",
        "\n",
        "from urllib.request import urlopen\n",
        "huck_finn_url = \"https://www.gutenberg.org/cache/epub/76/pg76.txt\"\n",
        "huck_finn_text = urlopen(huck_finn_url).read().decode()\n",
        "print(huck_finn_text)"
      ],
      "metadata": {
        "collapsed": true,
        "id": "gUkwYIwycxML"
      },
      "execution_count": null,
      "outputs": []
    },
    {
      "cell_type": "code",
      "source": [
        "# That's not great, we need to break up all the words...\n",
        "\n",
        "text = \"here is a long string of text\"\n",
        "print(text)"
      ],
      "metadata": {
        "id": "Vnpwpzwed8w6"
      },
      "execution_count": null,
      "outputs": []
    },
    {
      "cell_type": "code",
      "source": [
        "# We can use the .split command to do this which will break up words at spaces\n",
        "\n",
        "print(text.split())"
      ],
      "metadata": {
        "id": "Dbt0rBHyd9Qf"
      },
      "execution_count": null,
      "outputs": []
    },
    {
      "cell_type": "code",
      "source": [
        "# Let's try it with our Huck Finn text...\n",
        "\n",
        "huck_finn_words = huck_finn_text.split()\n",
        "print(huck_finn_words)"
      ],
      "metadata": {
        "id": "vzdrx3NSd9VU"
      },
      "execution_count": null,
      "outputs": []
    },
    {
      "cell_type": "markdown",
      "source": [
        "Okay, so now we have a long long string of words that we got from the internet what can we do? Well we can go grab some of the code from above that did that simple counting thing and we can reuse it! This is one of the coolest things about code, we can reuse, and reuse, and reuse, and build very powerful things out of very simple code...\n",
        "\n",
        "\n"
      ],
      "metadata": {
        "id": "51F5jRVAfcAe"
      }
    },
    {
      "cell_type": "code",
      "source": [
        "# So let's count all the words in Huck Finn!\n",
        "\n",
        "counting_dict = {} # empty dictionary\n",
        "\n",
        "for word in huck_finn_words:\n",
        "    if word in counting_dict:\n",
        "        counting_dict[word] += 1\n",
        "    else:\n",
        "        counting_dict[word] = 1"
      ],
      "metadata": {
        "id": "RTDQVzpWfbvk"
      },
      "execution_count": null,
      "outputs": []
    },
    {
      "cell_type": "code",
      "source": [
        "print(counting_dict)"
      ],
      "metadata": {
        "id": "j95NKUAwd9cx"
      },
      "execution_count": null,
      "outputs": []
    },
    {
      "cell_type": "code",
      "source": [
        "# So this is pretty good... but let's get a graph, because it's prettier..\n",
        "import pandas as pd\n",
        "\n",
        "df_words = pd.DataFrame(counting_dict.items(), columns=['Word', 'Count']).sort_values('Count', ascending=False)\n",
        "df_words.head(10)"
      ],
      "metadata": {
        "id": "YJ8dTzmtd9f4"
      },
      "execution_count": null,
      "outputs": []
    },
    {
      "cell_type": "code",
      "source": [
        "# It a lot of words\n",
        "df_words.describe()"
      ],
      "metadata": {
        "id": "iAVdLEC7hA2k"
      },
      "execution_count": null,
      "outputs": []
    },
    {
      "cell_type": "code",
      "source": [
        "# Let's just plot the 100 most frequent words.\n",
        "\n",
        "df_words.sort_values('Count', ascending=False)[:50].plot.bar(x='Word', y='Count', figsize=(20,10))"
      ],
      "metadata": {
        "id": "MuXbDqqrhJ-O"
      },
      "execution_count": null,
      "outputs": []
    },
    {
      "cell_type": "markdown",
      "source": [
        "So that's it! We've downloaded a whole book, read it all, and plotted the frequency of all the words in that book.\n",
        "\n",
        "For your challenge: do this for any 3 books that you choose on Project Gutenberg. You have all the code and tools that you'll need above. You only need to generate a dictionary that contains the word count for all the books you choose **combined**.\n",
        "\n",
        "If you submit a notebook with a graph for each book independently as well as all the books combined, then we'll award **3 bonus points**.\n",
        "\n",
        "Congratulations, we're well on our way to reading the entire internet and creating an LLM!"
      ],
      "metadata": {
        "id": "DPoJTY11hj1d"
      }
    },
    {
      "cell_type": "code",
      "source": [
        "## Put all the code you need below here, you can add as many cells and steps as you want.\n",
        "\n",
        "## The only rules are that you must save the graphs!\n"
      ],
      "metadata": {
        "id": "6ki79KSAhi9h"
      },
      "execution_count": null,
      "outputs": []
    }
  ],
  "metadata": {
    "colab": {
      "provenance": []
    },
    "kernelspec": {
      "display_name": "Python 3 (ipykernel)",
      "language": "python",
      "name": "python3"
    },
    "language_info": {
      "codemirror_mode": {
        "name": "ipython",
        "version": 3
      },
      "file_extension": ".py",
      "mimetype": "text/x-python",
      "name": "python",
      "nbconvert_exporter": "python",
      "pygments_lexer": "ipython3",
      "version": "3.11.5"
    },
    "vscode": {
      "interpreter": {
        "hash": "aee8b7b246df8f9039afb4144a1f6fd8d2ca17a180786b69acc140d282b71a49"
      }
    }
  },
  "nbformat": 4,
  "nbformat_minor": 0
}